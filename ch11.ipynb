{
 "cells": [
  {
   "cell_type": "markdown",
   "metadata": {},
   "source": [
    "<h1>11  Time Series</h1>"
   ]
  },
  {
   "cell_type": "code",
   "execution_count": 1,
   "metadata": {},
   "outputs": [],
   "source": [
    "import numpy as np\n",
    "import pandas as pd\n",
    "np.random.seed(12345)\n",
    "import matplotlib.pyplot as plt\n",
    "plt.rc(\"figure\", figsize=(10, 6))\n",
    "PREVIOUS_MAX_ROWS = pd.options.display.max_rows\n",
    "pd.options.display.max_columns = 20\n",
    "pd.options.display.max_rows = 20\n",
    "pd.options.display.max_colwidth = 80\n",
    "np.set_printoptions(precision=4, suppress=True)"
   ]
  },
  {
   "cell_type": "markdown",
   "metadata": {},
   "source": [
    "<p>Time series data is an important form of structured data in many different fields, such as finance, economics, ecology, neuroscience, and physics. Anything that is recorded repeatedly at many points in time forms a time series. Many time series are <em>fixed frequency</em>, which is to say that data points occur at regular intervals according to some rule, such as every 15 seconds, every 5 minutes, or once per month. Time series can also be <em>irregular</em> without a fixed unit of time or offset between units. How you mark and refer to time series data depends on the application, and you may have one of the following:</p>\n",
    "\n",
    "<dl>\n",
    "    <dt>Timestamps</dt>\n",
    "    <dd>Specific instants in time.</dd>\n",
    "    <dt>Fixed periods</dt>\n",
    "    <dd>Such as the whole month of January 2017, or the whole year 2020.</dd>\n",
    "    <dt>Intervals of time</dt>\n",
    "    <dd>Indicated by a start and end timestamp. Periods can be thought of as special cases of intervals.</dd>\n",
    "    <dt>Experiment or elapsed time</dt>\n",
    "    <dd>Each timestamp is a measure of time relative to a particular start time (e.g., the diameter of a cookie baking each second since being placed in the oven), starting from 0.</dd>\n",
    "</dl>\n",
    "\n",
    "<p>In this chapter, I am mainly concerned with time series in the first three categories, though many of the techniques can be applied to experimental time series where the index may be an integer or floating-point number indicating elapsed time from the start of the experiment. The simplest kind of time series is indexed by timestamp.</p>\n",
    "\n",
    "\n",
    "<p><strong>Tip</strong><br />\n",
    "pandas also supports indexes based on timedeltas, which can be a useful way of representing experiment or elapsed time. We do not explore timedelta indexes in this book, but you can learn more in the <a href=\"https://pandas.pydata.org/\">pandas documentation</a>.</p>\n",
    "\n",
    "<p>pandas provides many built-in time series tools and algorithms. You can efficiently work with large time series, and slice and dice, aggregate, and resample irregular- and fixed-frequency time series. Some of these tools are useful for financial and economics applications, but you could certainly use them to analyze server log data, too.</p>\n",
    "\n",
    "<p>As with the rest of the chapters, we start by importing NumPy and pandas:</p>"
   ]
  },
  {
   "cell_type": "code",
   "execution_count": 2,
   "metadata": {},
   "outputs": [],
   "source": [
    "import numpy as np\n",
    "import pandas as pd"
   ]
  },
  {
   "cell_type": "markdown",
   "metadata": {},
   "source": [
    "<h2>11.1 Date and Time Data Types and Tools</h2>\n",
    "\n",
    "<p>The Python standard library includes data types for date and time data, as well as calendar-related functionality. The <code>datetime</code>, <code>time</code>, and <code>calendar</code> modules are the main places to start. The <code>datetime.datetime</code> type, or simply <code>datetime</code>, is widely used:</p>"
   ]
  },
  {
   "cell_type": "code",
   "execution_count": 3,
   "metadata": {},
   "outputs": [],
   "source": [
    "from datetime import datetime\n",
    "now = datetime.now()\n",
    "now"
   ]
  },
  {
   "cell_type": "code",
   "execution_count": 4,
   "metadata": {},
   "outputs": [],
   "source": [
    "now.year, now.month, now.day"
   ]
  },
  {
   "cell_type": "markdown",
   "metadata": {},
   "source": [
    "<p><code>datetime</code> stores both the date and time down to the microsecond. <code>datetime.timedelta</code>, or simply <code>timedelta</code>, represents the temporal difference between two <code>datetime</code> objects:</p>"
   ]
  },
  {
   "cell_type": "code",
   "execution_count": 5,
   "metadata": {},
   "outputs": [],
   "source": [
    "delta = datetime(2011, 1, 7) - datetime(2008, 6, 24, 8, 15)\n",
    "\n",
    "delta"
   ]
  },
  {
   "cell_type": "code",
   "execution_count": 6,
   "metadata": {},
   "outputs": [],
   "source": [
    "delta.days"
   ]
  },
  {
   "cell_type": "code",
   "execution_count": 7,
   "metadata": {},
   "outputs": [],
   "source": [
    "delta.seconds"
   ]
  },
  {
   "cell_type": "markdown",
   "metadata": {},
   "source": [
    "<p>You can add (or subtract) a <code>timedelta</code> or multiple thereof to a <code>datetime</code> object to yield a new shifted object:</p>"
   ]
  },
  {
   "cell_type": "code",
   "execution_count": 8,
   "metadata": {},
   "outputs": [],
   "source": [
    "from datetime import timedelta\n",
    "start = datetime(2011, 1, 7)\n",
    "start + timedelta(12)"
   ]
  },
  {
   "cell_type": "code",
   "execution_count": 9,
   "metadata": {},
   "outputs": [],
   "source": [
    "start - 2 * timedelta(12)"
   ]
  },
  {
   "cell_type": "markdown",
   "metadata": {},
   "source": [
    "<p><a href=\"#table_11.1\">Table 11.1</a> summarizes the data types in the <code>datetime</code> module. While this chapter is mainly concerned with the data types in pandas and higher-level time series manipulation, you may encounter the <code>datetime</code>-based types in many other places in Python in the wild.</p>\n",
    "\n",
    "<table id=\"table_11.1\">\n",
    "    <caption>Table 11.1: Types in the <code>datetime</code> module</caption>\n",
    "    <tr>\n",
    "        <th>Type</th>\n",
    "        <th>Descripction</th>\n",
    "    </tr>\n",
    "    <tr>\n",
    "        <td><code>date</code></td>\n",
    "        <td>Store calendar date (year, month, day) using the Gregorian calendar</td>\n",
    "    </tr>\n",
    "    <tr>\n",
    "        <td><code>time</code></td>\n",
    "        <td>Store time of day as hours, minutes, seconds, and microseconds</td>\n",
    "    </tr>\n",
    "    <tr>\n",
    "        <td><code>datetime</code></td>\n",
    "        <td>Store both date and time</td>\n",
    "    </tr>\n",
    "    <tr>\n",
    "        <td><code>timedelta</code></td>\n",
    "        <td>The difference between two <code>datetime</code> values (as days, seconds, and microseconds)</td>\n",
    "    </tr>\n",
    "    <tr>\n",
    "        <td><code>tzinfo</code></td>\n",
    "        <td>Base type for storing time zone information</td>\n",
    "    </tr>\n",
    "</table>\n",
    "\n",
    "<h3>Converting Between String and Datetime</h3>\n",
    "\n",
    "<p>You can format <code>datetime</code> objects and pandas <code>Timestamp</code> objects, which I’ll introduce later, as strings using <code>str</code> or the <code>strftime</code> method, passing a format specification:</p>"
   ]
  },
  {
   "cell_type": "code",
   "execution_count": 10,
   "metadata": {},
   "outputs": [],
   "source": [
    "stamp = datetime(2011, 1, 3)\n",
    "str(stamp)"
   ]
  },
  {
   "cell_type": "code",
   "execution_count": 11,
   "metadata": {},
   "outputs": [],
   "source": [
    "stamp.strftime(\"%Y-%m-%d\")"
   ]
  },
  {
   "cell_type": "markdown",
   "metadata": {},
   "source": [
    "<p>See <a href=\"#table_11.2\">Table 11.2</a> for a complete list of the format codes.</p>\n",
    "\n",
    "<table id=\"table_11.2\">\n",
    "    <caption>Table 11.2: <code>datetime</code> format specification (ISO C89 compatible)</caption>\n",
    "    <tr>\n",
    "        <th>Type</th>\n",
    "        <th>Description</th>\n",
    "    </tr>\n",
    "    <tr>\n",
    "        <td><code>%Y</code></td>\n",
    "        <td>Four-digit year</td>\n",
    "    </tr>\n",
    "    <tr>\n",
    "        <td><code>%y</code></td>\n",
    "        <td>Two-digit year</td>\n",
    "    </tr>\n",
    "    <tr>\n",
    "        <td><code>%m</code></td>\n",
    "        <td>Two-digit month [01, 12]</td>\n",
    "    </tr>\n",
    "    <tr>\n",
    "        <td><code>%d</code></td>\n",
    "        <td>Two-digit day [01, 31]</td>\n",
    "    </tr>\n",
    "    <tr>\n",
    "        <td><code>%H</code></td>\n",
    "        <td>Hour (24-hour clock) [00, 23]</td>\n",
    "    </tr>\n",
    "    <tr>\n",
    "        <td><code>%I</code></td>\n",
    "        <td>Hour (12-hour clock) [01, 12]</td>\n",
    "    </tr>\n",
    "    <tr>\n",
    "        <td><code>%M</code></td>\n",
    "        <td>Two-digit minute [00, 59]</td>\n",
    "    </tr>\n",
    "    <tr>\n",
    "        <td><code>%S</code></td>\n",
    "        <td>Second [00, 61] (seconds 60, 61 account for leap seconds)</td>\n",
    "    </tr>\n",
    "    <tr>\n",
    "        <td><code>%f</code></td>\n",
    "        <td>Microsecond as an integer, zero-padded (from 000000 to 999999)</td>\n",
    "    </tr>\n",
    "    <tr>\n",
    "        <td><code>%j</code></td>\n",
    "        <td>Day of the year as a zero-padded integer (from 001 to 336)</td>\n",
    "    </tr>\n",
    "    <tr>\n",
    "        <td><code>%w</code></td>\n",
    "        <td>Weekday as an integer [0 (Sunday), 6]</td>\n",
    "    </tr>\n",
    "    <tr>\n",
    "        <td><code>%u</code></td>\n",
    "        <td>Weekday as an integer starting from 1, where 1 is Monday.</td>\n",
    "    </tr>\n",
    "    <tr>\n",
    "        <td><code>%U</code></td>\n",
    "        <td>Week number of the year [00, 53]; Sunday is considered the first day of the week, and days before the first Sunday of the year are “week 0”</td>\n",
    "    </tr>\n",
    "    <tr>\n",
    "        <td><code>%W</code></td>\n",
    "        <td>Week number of the year [00, 53]; Monday is considered the first day of the week, and days before the first Monday of the year are “week 0”</td>\n",
    "    </tr>\n",
    "    <tr>\n",
    "        <td><code>%z</code></td>\n",
    "        <td>UTC time zone offset as <code>+HHMM</code> or <code>-HHMM</code>; empty if time zone naive</td>\n",
    "    </tr>\n",
    "    <tr>\n",
    "        <td><code>%Z</code></td>\n",
    "        <td>Time zone name as a string, or empty string if no time zone</td>\n",
    "    </tr>\n",
    "    <tr>\n",
    "        <td><code>%F</code></td>\n",
    "        <td>Shortcut for <code>%Y-%m-%d</code> (e.g., <code>2012-4-18</code>)</td>\n",
    "    </tr>\n",
    "    <tr>\n",
    "        <td><code>%D</code></td>\n",
    "        <td>Shortcut for <code>%m/%d/%y</code> (e.g., <code>04/18/12</code>)</td>\n",
    "    </tr>\n",
    "</table>\n",
    "<p>You can use many of the same format codes to convert strings to dates using <code>datetime.strptime</code> (but some codes, like <code>%F</code> cannot be used):</p>"
   ]
  },
  {
   "cell_type": "code",
   "execution_count": 12,
   "metadata": {},
   "outputs": [],
   "source": [
    "value = \"2011-01-03\"\n",
    "datetime.strptime(value, \"%Y-%m-%d\")"
   ]
  },
  {
   "cell_type": "code",
   "execution_count": 13,
   "metadata": {},
   "outputs": [],
   "source": [
    "datestrs = [\"7/6/2011\", \"8/6/2011\"]\n",
    "[datetime.strptime(x, \"%m/%d/%Y\") for x in datestrs]"
   ]
  },
  {
   "cell_type": "markdown",
   "metadata": {},
   "source": [
    "<p><code>datetime.strptime</code> is one way to parse a date with a known format.</p>\n",
    "\n",
    "<p>pandas is generally oriented toward working with arrays of dates, whether used as an axis index or a column in a DataFrame. The <code>pandas.to_datetime</code> method parses many different kinds of date representations. Standard date formats like ISO 8601 can be parsed quickly:</p>"
   ]
  },
  {
   "cell_type": "code",
   "execution_count": 14,
   "metadata": {},
   "outputs": [],
   "source": [
    "datestrs = [\"2011-07-06 12:00:00\", \"2011-08-06 00:00:00\"]\n",
    "pd.to_datetime(datestrs)"
   ]
  },
  {
   "cell_type": "markdown",
   "metadata": {},
   "source": [
    "<p>It also handles values that should be considered missing(<code>None</code>, empty string, etc.):</p>"
   ]
  },
  {
   "cell_type": "code",
   "execution_count": 15,
   "metadata": {},
   "outputs": [],
   "source": [
    "idx = pd.to_datetime(datestrs + [None])\n",
    "idx"
   ]
  },
  {
   "cell_type": "code",
   "execution_count": 16,
   "metadata": {},
   "outputs": [],
   "source": [
    "idx[2]"
   ]
  },
  {
   "cell_type": "code",
   "execution_count": 17,
   "metadata": {},
   "outputs": [],
   "source": [
    "pd.isna(idx)"
   ]
  },
  {
   "cell_type": "markdown",
   "metadata": {},
   "source": [
    "<p><code>NaT</code> (Not a Time) is pandas’s null value for timestamp data.</p>\n",
    "\n",
    "<p><strong>Danger</strong><br />\n",
    "<code>dateutil.parser</code> is a useful but imperfect tool. Notably, it will recognize some strings as dates that you might prefer that it didn’t; for example, <code>\"42\"</code> will be parsed as the year <code>2042</code> with today’s calendar date.</p>\n",
    "\n",
    "<p><code>datetime</code> objects also have a number of locale-specific formatting options for systems in other countries or languages. For example, the abbreviated month names will be different on German or French systems compared with English systems. See <a href=\"#table_11.3\">Table 11.3</a> for a listing.</p>\n",
    "\n",
    "<table id=\"table_11.3\">\n",
    "    <caption>Table 11.3: Locale-specific date formatting </caption>\n",
    "    <tr>\n",
    "        <th>Type</th>\n",
    "        <th>Description</th>\n",
    "    </tr>\n",
    "    <tr>\n",
    "        <td><code>%a</code></td>\n",
    "        <td>Abbreviated weekday name</td>\n",
    "    </tr>\n",
    "    <tr>\n",
    "        <td><code>%A</code></td>\n",
    "        <td>Full weekday name</td>\n",
    "    </tr>\n",
    "    <tr>\n",
    "        <td><code>%b</code></td>\n",
    "        <td>Abbreviated month name</td>\n",
    "    </tr>\n",
    "    <tr>\n",
    "        <td><code>%B</code></td>\n",
    "        <td>Full month name</td>\n",
    "    </tr>\n",
    "    <tr>\n",
    "        <td><code>%c</code></td>\n",
    "        <td>Full date and time (e.g., ‘Tue 01 May 2012 04:20:57 PM’)</td>\n",
    "    </tr>\n",
    "    <tr>\n",
    "        <td><code>%p</code></td>\n",
    "        <td>Locale equivalent of AM or PM</td>\n",
    "    </tr>\n",
    "    <tr>\n",
    "        <td><code>%x</code></td>\n",
    "        <td>Locale-appropriate formatted date (e.g., in the United States, May 1, 2012 yields ‘05/01/2012’)</td>\n",
    "    </tr>\n",
    "    <tr>\n",
    "        <td><code>%X</code></td>\n",
    "        <td>Locale-appropriate time (e.g., ‘04:24:12 PM’)</td>\n",
    "    </tr>\n",
    "</table>\n",
    "\n",
    "<h2>11.2 Time Series Basics</h2>\n",
    "<p>A basic kind of time series object in pandas is a Series indexed by timestamps, which is often represented outside of pandas as Python strings or <code>datetime</code> objects:</p>"
   ]
  },
  {
   "cell_type": "code",
   "execution_count": 18,
   "metadata": {},
   "outputs": [],
   "source": [
    "dates = [datetime(2011, 1, 2), datetime(2011, 1, 5),\n",
    "         datetime(2011, 1, 7), datetime(2011, 1, 8),\n",
    "         datetime(2011, 1, 10), datetime(2011, 1, 12)]\n",
    "ts = pd.Series(np.random.standard_normal(6), index=dates)\n",
    "ts"
   ]
  },
  {
   "cell_type": "markdown",
   "metadata": {},
   "source": [
    "<p>Under the hood, these <code>datetime</code> objects have been put in a <code>DatetimeIndex</code>:</p>"
   ]
  },
  {
   "cell_type": "code",
   "execution_count": 19,
   "metadata": {},
   "outputs": [],
   "source": [
    "ts.index"
   ]
  },
  {
   "cell_type": "markdown",
   "metadata": {},
   "source": [
    "<p>Like other Series, arithmetic operations between differently indexed time series automatically align on the dates:</p>"
   ]
  },
  {
   "cell_type": "code",
   "execution_count": 20,
   "metadata": {},
   "outputs": [],
   "source": [
    "ts + ts[::2]"
   ]
  },
  {
   "cell_type": "markdown",
   "metadata": {},
   "source": [
    "<p>Recall that <code>ts[::2]</code> selects every second element in <code>ts</code>.</p>\n",
    "\n",
    "<p>pandas stores timestamps using NumPy's <code>datetime64</code> data type at the nanosecond resolution:</p>"
   ]
  },
  {
   "cell_type": "code",
   "execution_count": 21,
   "metadata": {},
   "outputs": [],
   "source": [
    "ts.index.dtype"
   ]
  },
  {
   "cell_type": "markdown",
   "metadata": {},
   "source": [
    "<p>Scalar values from a <code>DatetimeIndex</code> are pandas <code>Timestamp</code> objects:</p>"
   ]
  },
  {
   "cell_type": "code",
   "execution_count": 22,
   "metadata": {},
   "outputs": [],
   "source": [
    "stamp = ts.index[0]\n",
    "stamp"
   ]
  },
  {
   "cell_type": "markdown",
   "metadata": {},
   "source": [
    "<p>A <code>pandas.Timestamp</code> can be substituted most places where you would use a <code>datetime</code> object. The reverse is not true, however, because <code>pandas.Timestamp</code> can store nanosecond precision data, while <code>datetime</code> stores only up to microseconds. Additionally, <code>pandas.Timestamp</code> can store frequency information (if any) and understands how to do time zone conversions and other kinds of manipulations. More on both of these things later in <a href=\"#11.4_time\">Time Zone Handling</a>.</p>\n",
    "\n",
    "<h3>Indexing, Selection, Subsetting</h3>\n",
    "\n",
    "<p>Time series behaves like any other Series when you are indexing and selecting data based on the label:</p>"
   ]
  },
  {
   "cell_type": "code",
   "execution_count": 23,
   "metadata": {},
   "outputs": [],
   "source": [
    "stamp = ts.index[2]\n",
    "ts[stamp]"
   ]
  },
  {
   "cell_type": "markdown",
   "metadata": {},
   "source": [
    "<p>As a convenience, you can also pass a string that is interpretable as a date:</p>"
   ]
  },
  {
   "cell_type": "code",
   "execution_count": 24,
   "metadata": {},
   "outputs": [],
   "source": [
    "ts[\"2011-01-10\"]"
   ]
  },
  {
   "cell_type": "markdown",
   "metadata": {},
   "source": [
    "<p>For longer time series, a year or only a year and month can be passed to easily select slices of data (<code>pandas.date_range</code> is discussed in more detail in <a href=\"#generating\">Generating Date Ranges</a>):</p>"
   ]
  },
  {
   "cell_type": "code",
   "execution_count": 25,
   "metadata": {},
   "outputs": [],
   "source": [
    "longer_ts = pd.Series(np.random.standard_normal(1000),\n",
    "                      index=pd.date_range(\"2000-01-01\", periods=1000))\n",
    "longer_ts"
   ]
  },
  {
   "cell_type": "code",
   "execution_count": 26,
   "metadata": {},
   "outputs": [],
   "source": [
    "longer_ts[\"2001\"]"
   ]
  },
  {
   "cell_type": "markdown",
   "metadata": {},
   "source": [
    "<p>Here, the string <code>\"2001\"</code> is interpreted as a year and selects that time period. This also works if you specify the month:</p>"
   ]
  },
  {
   "cell_type": "code",
   "execution_count": 27,
   "metadata": {},
   "outputs": [],
   "source": [
    "longer_ts[\"2001-05\"]"
   ]
  },
  {
   "cell_type": "markdown",
   "metadata": {},
   "source": [
    "<p>Slicing with <code>datetime</code> objects works as well:<p>"
   ]
  },
  {
   "cell_type": "code",
   "execution_count": 28,
   "metadata": {},
   "outputs": [],
   "source": [
    "ts[datetime(2011, 1, 7):]"
   ]
  },
  {
   "cell_type": "code",
   "execution_count": 29,
   "metadata": {},
   "outputs": [],
   "source": [
    "ts[datetime(2011, 1, 7):datetime(2011, 1, 10)]"
   ]
  },
  {
   "cell_type": "markdown",
   "metadata": {},
   "source": [
    "<p>Because most time series data is ordered chronologically, you can slice with timestamps not contained in a time series to perform a range query:</p>"
   ]
  },
  {
   "cell_type": "code",
   "execution_count": 30,
   "metadata": {},
   "outputs": [],
   "source": [
    "ts"
   ]
  },
  {
   "cell_type": "code",
   "execution_count": 31,
   "metadata": {},
   "outputs": [],
   "source": [
    "ts[\"2011-01-06\":\"2011-01-11\"]"
   ]
  },
  {
   "cell_type": "markdown",
   "metadata": {},
   "source": [
    "<p>As before, you can pass a string date, <code>datetime</code>, or timestamp. Remember that slicing in this manner produces views on the source time series, like slicing NumPy arrays. This means that no data is copied, and modifications on the slice will be reflected in the original data.</p>\n",
    "\n",
    "<p>There is an equivalent instance method, <code>truncate</code>, that slices a Series between two dates:</p>"
   ]
  },
  {
   "cell_type": "code",
   "execution_count": 32,
   "metadata": {},
   "outputs": [],
   "source": [
    "ts.truncate(after=\"2011-01-09\")"
   ]
  },
  {
   "cell_type": "markdown",
   "metadata": {},
   "source": [
    "<p>All of this holds true for DataFrame as well, indexing on its rows:</p>"
   ]
  },
  {
   "cell_type": "code",
   "execution_count": 33,
   "metadata": {},
   "outputs": [],
   "source": [
    "dates = pd.date_range(\"2000-01-01\", periods=100, freq=\"W-WED\")\n",
    "long_df = pd.DataFrame(np.random.standard_normal((100, 4)),\n",
    "                       index=dates,\n",
    "                       columns=[\"Colorado\", \"Texas\",\n",
    "                                \"New York\", \"Ohio\"])\n",
    "long_df.loc[\"2001-05\"]"
   ]
  },
  {
   "cell_type": "markdown",
   "metadata": {},
   "source": [
    "<h3>Time Series with Duplicate Indices</h3>\n",
    "\n",
    "<p>In some applications, there may be multiple data observations falling on a particular timestamp. Here is an example:</p>"
   ]
  },
  {
   "cell_type": "code",
   "execution_count": 34,
   "metadata": {},
   "outputs": [],
   "source": [
    "dates = pd.DatetimeIndex([\"2000-01-01\", \"2000-01-02\", \"2000-01-02\",\n",
    "                          \"2000-01-02\", \"2000-01-03\"])\n",
    "dup_ts = pd.Series(np.arange(5), index=dates)\n",
    "dup_ts"
   ]
  },
  {
   "cell_type": "markdown",
   "metadata": {},
   "source": [
    "<p>We can tell that the index is not unique by checking its <code>is_unique</code> property:</p>"
   ]
  },
  {
   "cell_type": "code",
   "execution_count": 35,
   "metadata": {},
   "outputs": [],
   "source": [
    "dup_ts.index.is_unique"
   ]
  },
  {
   "cell_type": "markdown",
   "metadata": {},
   "source": [
    "<p>Indexing into this time series will now either produce scalar values or slices, depending on whether a timestamp is duplicated:</p>"
   ]
  },
  {
   "cell_type": "code",
   "execution_count": 36,
   "metadata": {},
   "outputs": [],
   "source": [
    "dup_ts[\"2000-01-03\"]  # not duplicated"
   ]
  },
  {
   "cell_type": "code",
   "execution_count": 37,
   "metadata": {},
   "outputs": [],
   "source": [
    "dup_ts[\"2000-01-02\"]  # duplicated"
   ]
  },
  {
   "cell_type": "markdown",
   "metadata": {},
   "source": [
    "<p>Suppose you wanted to aggregate the data having non unique timestamps. One way to do this is to use <code>groupby</code> and pass <code>level=0</code> (the one and only level):</p>"
   ]
  },
  {
   "cell_type": "code",
   "execution_count": 38,
   "metadata": {},
   "outputs": [],
   "source": [
    "grouped = dup_ts.groupby(level=0)\n",
    "grouped.mean()"
   ]
  },
  {
   "cell_type": "code",
   "execution_count": 39,
   "metadata": {},
   "outputs": [],
   "source": [
    "grouped.count()"
   ]
  },
  {
   "cell_type": "markdown",
   "metadata": {},
   "source": [
    "<h2>11.3 Date Ranges, Frequencies, and Shifting</h2>\n",
    "\n",
    "<p>Generic time series in pandas are assumed to be irregular; that is, they have no fixed frequency. For many applications this is sufficient. However, it’s often desirable to work relative to a fixed frequency, such as daily, monthly, or every 15 minutes, even if that means introducing missing values into a time series. Fortunately, pandas has a full suite of standard time series frequencies and tools for resampling (discussed in more detail later in <a href=\"#11.6_resampling\">Resampling and Frequency Conversion</a>), inferring frequencies, and generating fixed-frequency date ranges. For example, you can convert the sample time series to fixed daily frequency by calling <code>resample</code>:</p>"
   ]
  },
  {
   "cell_type": "code",
   "execution_count": 40,
   "metadata": {},
   "outputs": [],
   "source": [
    "ts"
   ]
  },
  {
   "cell_type": "code",
   "execution_count": 41,
   "metadata": {},
   "outputs": [],
   "source": [
    "resampler = ts.resample(\"D\")\n",
    "resampler"
   ]
  },
  {
   "cell_type": "markdown",
   "metadata": {},
   "source": [
    "<p>The string <code>\"D\"</code> is interpreted as daily frequency.</p>\n",
    "\n",
    "<p>Conversion between frequencies or resampling is a big enough topic to have its own section later (<a href=\"#11.6_resampling\">Resampling and Frequency Conversion</a>). Here, I’ll show you how to use the base frequencies and multiples thereof.</p>\n",
    "\n",
    "<span id=\"generating\"></span>\n",
    "<h3>Generating Date Ranges</h3>\n",
    "\n",
    "<p>While I used it previously without explanation, <code>pandas.date_range</code> is responsible for generating a <code>DatetimeIndex</code> with an indicated length according to a particular frequency:</p>"
   ]
  },
  {
   "cell_type": "code",
   "execution_count": 42,
   "metadata": {},
   "outputs": [],
   "source": [
    "index = pd.date_range(\"2012-04-01\", \"2012-06-01\")\n",
    "index"
   ]
  },
  {
   "cell_type": "markdown",
   "metadata": {},
   "source": [
    "<p>By default, <code>pandas.date_range</code> generates daily timestamps. If you pass only a start or end date, you must pass a number of periods to generate:</p>"
   ]
  },
  {
   "cell_type": "code",
   "execution_count": 43,
   "metadata": {},
   "outputs": [],
   "source": [
    "pd.date_range(start=\"2012-04-01\", periods=20)"
   ]
  },
  {
   "cell_type": "code",
   "execution_count": 44,
   "metadata": {},
   "outputs": [],
   "source": [
    "pd.date_range(end=\"2012-06-01\", periods=20)"
   ]
  },
  {
   "cell_type": "markdown",
   "metadata": {},
   "source": [
    "<p>The start and end dates define strict boundaries for the generated date index. For example, if you wanted a date index containing the last business day of each month, you would pass the <code>\"BM\"</code> frequency (business end of month; see a more complete listing of frequencies in <a href=\"#table_11.4\">Table 11.4</a>), and only dates falling on or inside the date interval will be included:</p>"
   ]
  },
  {
   "cell_type": "code",
   "execution_count": 45,
   "metadata": {},
   "outputs": [],
   "source": [
    "pd.date_range(\"2000-01-01\", \"2000-12-01\", freq=\"BM\")"
   ]
  },
  {
   "cell_type": "markdown",
   "metadata": {},
   "source": [
    "<table id=\"table_11.4\">\n",
    "    <caption>Table 11.4: Base time series frequencies (not comprehensive)</caption>\n",
    "    <tr>\n",
    "        <th>Alias</th>\n",
    "        <th>Offset type</th>\n",
    "        <th>Description</th>\n",
    "    </tr>\n",
    "    <tr>\n",
    "        <td><code>D</code></td>\n",
    "        <td><code>Day</code></td>\n",
    "        <td>Calendar daily</td>\n",
    "    </tr>\n",
    "    <tr>\n",
    "        <td><code>B</code></td>\n",
    "        <td><code>BusinessDay</code></td>\n",
    "        <td>Business daily</td>\n",
    "    </tr>\n",
    "    <tr>\n",
    "        <td><code>H</code></td>\n",
    "        <td><code>Hour</code></td>\n",
    "        <td>Hourly</td>\n",
    "    </tr>\n",
    "    <tr>\n",
    "        <td><code>T</code> or <code>min</code></td>\n",
    "        <td><code>Minute</code></td>\n",
    "        <td>Once a minute</td>\n",
    "    </tr>\n",
    "    <tr>\n",
    "        <td><code>S</code></td>\n",
    "        <td><code>Second</code></td>\n",
    "        <td>Once a second</td>\n",
    "    </tr>\n",
    "    <tr>\n",
    "        <td><code>L</code> or <code>ms</code></td>\n",
    "        <td><code>Milli</code></td>\n",
    "        <td>Millisecond (1/1,000 of 1 second)</td>\n",
    "    </tr>\n",
    "    <tr>\n",
    "        <td><code>U</code></td>\n",
    "        <td><code>Micro</code></td>\n",
    "        <td>Microsecond (1/1,000,000 of 1 second)</td>\n",
    "    </tr>\n",
    "    <tr>\n",
    "        <td><code>M</code></td>\n",
    "        <td><code>MonthEnd</code></td>\n",
    "        <td>Last calendar day of month</td>\n",
    "    </tr>\n",
    "    <tr>\n",
    "        <td><code>BM</code></td>\n",
    "        <td><code>BusinessMonthEnd</code></td>\n",
    "        <td>Last business day (weekday) of month</td>\n",
    "    </tr>\n",
    "    <tr>\n",
    "        <td><code>MS</code></td>\n",
    "        <td><code>MonthBegin</code></td>\n",
    "        <td>First calendar day of month</td>\n",
    "    </tr>\n",
    "    <tr>\n",
    "        <td><code>BMS</code></td>\n",
    "        <td><code>BusinessMonthBegin</code></td>\n",
    "        <td>First weekday of month</td>\n",
    "    </tr>\n",
    "    <tr>\n",
    "        <td><code>W-MON, W-TUE, ...</code></td>\n",
    "        <td><code>Week</code></td>\n",
    "        <td>Weekly on given day of week (MON, TUE, WED, THU, FRI, SAT, or SUN)</td>\n",
    "    </tr>\n",
    "    <tr>\n",
    "        <td><code>WOM-1MON, WOM-2MON, ...</code></td>\n",
    "        <td><code>WeekOfMonth</code></td>\n",
    "        <td>Generate weekly dates in the first, second, third, or fourth week of the month (e.g., <code>WOM-3FRI</code> for the third Friday of each month)</td>\n",
    "    </tr>\n",
    "    <tr>\n",
    "        <td><code>Q-JAN, Q-FEB, ...</code></td>\n",
    "        <td><code>QuarterEnd</code></td>\n",
    "        <td>Quarterly dates anchored on last calendar day of each month, for year ending in indicated month (JAN, FEB, MAR, APR, MAY, JUN, JUL, AUG, SEP, OCT, NOV, or DEC)</td>\n",
    "    </tr>\n",
    "    <tr>\n",
    "        <td><code>BQ-JAN, BQ-FEB, ...</code></td>\n",
    "        <td><code>BusinessQuarterEnd</code></td>\n",
    "        <td>Quarterly dates anchored on last weekday day of each month, for year ending in indicated month</td>\n",
    "    </tr>\n",
    "    <tr>\n",
    "        <td><code>QS-JAN, QS-FEB, ...</code></td>\n",
    "        <td><code>QuarterBegin</code></td>\n",
    "        <td>Quarterly dates anchored on first calendar day of each month, for year ending in indicated month</td>\n",
    "    </tr>\n",
    "    <tr>\n",
    "        <td><code>BQS-JAN, BQS-FEB, ...</code></td>\n",
    "        <td><code>BusinessQuarterBegin</code></td>\n",
    "        <td>Quarterly dates anchored on first weekday day of each month, for year ending in indicated month</td>\n",
    "    </tr>\n",
    "    <tr>\n",
    "        <td><code>A-JAN, A-FEB, ...</code></td>\n",
    "        <td><code>YearEnd</code></td>\n",
    "        <td>Annual dates anchored on last calendar day of given month (JAN, FEB, MAR, APR, MAY, JUN, JUL, AUG, SEP, OCT, NOV, or DEC)</td>\n",
    "    </tr>\n",
    "    <tr>\n",
    "        <td><code>BA-JAN, BA-FEB, ...</code></td>\n",
    "        <td><code>BusinessYearEnd</code></td>\n",
    "        <td>Annual dates anchored on last weekday of given month</td>\n",
    "    </tr>\n",
    "    <tr>\n",
    "        <td><code>AS-JAN, AS-FEB, ...</code></td>\n",
    "        <td><code>YearBegin</code></td>\n",
    "        <td>Annual dates anchored on first day of given month</td>\n",
    "    </tr>\n",
    "    <tr>\n",
    "        <td><code>BAS-JAN, BAS-FEB, ...</code></td>\n",
    "        <td><code>BusinessYearBegin</code></td>\n",
    "        <td>Annual dates anchored on first weekday of given month</td>\n",
    "    </tr>\n",
    "</table>\n",
    "\n",
    "<p><code>pandas.date_range</code> by default preserves the time (if any) of the start or end timestamp:</p>"
   ]
  },
  {
   "cell_type": "code",
   "execution_count": 46,
   "metadata": {},
   "outputs": [],
   "source": [
    "pd.date_range(\"2012-05-02 12:56:31\", periods=5)"
   ]
  },
  {
   "cell_type": "markdown",
   "metadata": {},
   "source": [
    "<p>Sometimes you will have start or end dates with time information but want to generate a set of timestamps <em>normalized</em> to midnight as a convention. To do this, there is a <code>normalize</code> option:</p>"
   ]
  },
  {
   "cell_type": "code",
   "execution_count": 47,
   "metadata": {},
   "outputs": [],
   "source": [
    "pd.date_range(\"2012-05-02 12:56:31\", periods=5, normalize=True)"
   ]
  },
  {
   "cell_type": "markdown",
   "metadata": {},
   "source": [
    "<h3>Frequencies and Date Offsets</h3>\n",
    "\n",
    "<p>Frequencies in pandas are composed of a <em>base frequency</em> and a multiplier. Base frequencies are typically referred to by a string alias, like <code>\"M\"</code> for monthly or <code>\"H\"</code> for hourly. For each base frequency, there is an object referred to as a <code>date offset</code>. For example, hourly frequency can be represented with the <code>Hour</code> class:</p>"
   ]
  },
  {
   "cell_type": "code",
   "execution_count": 48,
   "metadata": {},
   "outputs": [],
   "source": [
    "from pandas.tseries.offsets import Hour, Minute\n",
    "hour = Hour()\n",
    "hour"
   ]
  },
  {
   "cell_type": "markdown",
   "metadata": {},
   "source": [
    "<p>You can define a multiple of an offset by passing an integer:</p>"
   ]
  },
  {
   "cell_type": "code",
   "execution_count": 49,
   "metadata": {},
   "outputs": [],
   "source": [
    "four_hours = Hour(4)\n",
    "four_hours"
   ]
  },
  {
   "cell_type": "markdown",
   "metadata": {},
   "source": [
    "<p>In most applications, you would never need to explicitly create one of these objects; instead you'd use a string alias like <code>\"H\"</code> or <code>\"4H\"</code>. Putting an integer before the base frequency creates a multiple:</p>"
   ]
  },
  {
   "cell_type": "code",
   "execution_count": 50,
   "metadata": {},
   "outputs": [],
   "source": [
    "pd.date_range(\"2000-01-01\", \"2000-01-03 23:59\", freq=\"4H\")"
   ]
  },
  {
   "cell_type": "markdown",
   "metadata": {},
   "source": [
    "<p>Many offsets can be combined by addition</p>"
   ]
  },
  {
   "cell_type": "code",
   "execution_count": 51,
   "metadata": {},
   "outputs": [],
   "source": [
    "Hour(2) + Minute(30)"
   ]
  },
  {
   "cell_type": "markdown",
   "metadata": {},
   "source": [
    "<p>Similarly, you can pass frequency strings, like <code>\"1h30min\"</code>, that will effectively be parsed to the same expression:</p>"
   ]
  },
  {
   "cell_type": "code",
   "execution_count": 52,
   "metadata": {},
   "outputs": [],
   "source": [
    "pd.date_range(\"2000-01-01\", periods=10, freq=\"1h30min\")"
   ]
  },
  {
   "cell_type": "markdown",
   "metadata": {},
   "source": [
    "<p>Some frequencies describe points in time that are not evenly spaced. For example, <code>\"M\"</code> (calendar month end) and <code>\"BM\"</code> (last business/weekday of month) depend on the number of days in a month and, in the latter case, whether the month ends on a weekend or not. We refer to these as <em>anchored</em> offsets.</p>\n",
    "\n",
    "<p>Refer to <a href=\"#table_11.4\">Table 11.4</a> for a listing of frequency codes and date offset classes available in pandas.</p>\n",
    "\n",
    "<p><strong>Note</strong><br />\n",
    "Users can define their own custom frequency classes to provide date logic not available in pandas, though the full details of that are outside the scope of this book.</p>\n",
    "\n",
    "<h4>Week of month dates</h4>\n",
    "\n",
    "<p>One useful frequency class is “week of month,” starting with <code>WOM</code>. This enables you to get dates like the third Friday of each month:</p>"
   ]
  },
  {
   "cell_type": "code",
   "execution_count": 53,
   "metadata": {},
   "outputs": [],
   "source": [
    "monthly_dates = pd.date_range(\"2012-01-01\", \"2012-09-01\", \n",
    "                              freq=\"WOM-3FRI\")\n",
    "list(monthly_dates)"
   ]
  },
  {
   "cell_type": "markdown",
   "metadata": {},
   "source": [
    "<h3>Shifting (Leading and Lagging) Data</h3>\n",
    "\n",
    "<p><em>Shifting</em> refers to moving data backward and forward through time. Both Series and DataFrame have a <code>shift</code> method for doing naive shifts forward or backward, leaving the index unmodified:</p>"
   ]
  },
  {
   "cell_type": "code",
   "execution_count": 54,
   "metadata": {},
   "outputs": [],
   "source": [
    "ts = pd.Series(np.random.standard_normal(4),\n",
    "               index=pd.date_range(\"2000-01-01\", periods=4, freq=\"M\"))\n",
    "ts"
   ]
  },
  {
   "cell_type": "code",
   "execution_count": 55,
   "metadata": {},
   "outputs": [],
   "source": [
    "ts.shift(2)"
   ]
  },
  {
   "cell_type": "code",
   "execution_count": 56,
   "metadata": {},
   "outputs": [],
   "source": [
    "ts.shift(-2)"
   ]
  },
  {
   "cell_type": "markdown",
   "metadata": {},
   "source": [
    "<p>When we shift like this, missing data is introduced either at the start or the end of the time series.</p>\n",
    "\n",
    "<p>A common use of <code>shift</code> is computing consecutive percent changes in a time series or multiple time series as DataFrame columns. This is expressed as:</p>\n",
    "\n",
    "<pre>ts / ts.shift(1) - 1</pre>\n",
    "\n",
    "<p>Because naive shifts leave the index unmodified, some data is discarded. Thus if the frequency is known, it can be passed to shift to advance the timestamps instead of simply the data:</p>"
   ]
  },
  {
   "cell_type": "code",
   "execution_count": 57,
   "metadata": {},
   "outputs": [],
   "source": [
    "ts.shift(2, freq=\"M\")"
   ]
  },
  {
   "cell_type": "markdown",
   "metadata": {},
   "source": [
    "<p>Other frequencies can be passed, too, giving you some flexibility in how to lead and lag the data:</p>"
   ]
  },
  {
   "cell_type": "code",
   "execution_count": 58,
   "metadata": {},
   "outputs": [],
   "source": [
    "ts.shift(3, freq=\"D\")"
   ]
  },
  {
   "cell_type": "code",
   "execution_count": 59,
   "metadata": {},
   "outputs": [],
   "source": [
    "ts.shift(1, freq=\"90T\")"
   ]
  },
  {
   "cell_type": "markdown",
   "metadata": {},
   "source": [
    "<p>The <code>T</code> here stands for minutes. Note that the <code>freq</code> parameter here indicates the offset to apply to the timestamps, but it does not change the underlying frequency of the data, if any.</p>\n",
    "\n",
    "<h3>Shifting dates with offsets</h3>\n",
    "\n",
    "<p>The pandas date offsets can also be used with <code>datetime</code> or <code>Timestamp</code> objects:</p>"
   ]
  },
  {
   "cell_type": "code",
   "execution_count": 60,
   "metadata": {},
   "outputs": [],
   "source": [
    "from pandas.tseries.offsets import Day, MonthEnd\n",
    "now = datetime(2011, 11, 17)\n",
    "now + 3 * Day()"
   ]
  },
  {
   "cell_type": "markdown",
   "metadata": {},
   "source": [
    "<p>If you add an anchored offset like <code>MonthEnd</code>, the first increment will \"roll forward\" a date to the next date according to the frequency rule:</p>"
   ]
  },
  {
   "cell_type": "code",
   "execution_count": 61,
   "metadata": {},
   "outputs": [],
   "source": [
    "now + MonthEnd()"
   ]
  },
  {
   "cell_type": "code",
   "execution_count": 62,
   "metadata": {},
   "outputs": [],
   "source": [
    "now + MonthEnd(2)"
   ]
  },
  {
   "cell_type": "markdown",
   "metadata": {},
   "source": [
    "<p>Anchored offsets can explicitly “roll” dates forward or backward by simply using their <code>rollforward</code> and <code>rollback methods</code>, respectively:</p>"
   ]
  },
  {
   "cell_type": "code",
   "execution_count": 63,
   "metadata": {},
   "outputs": [],
   "source": [
    "offset = MonthEnd()\n",
    "offset.rollforward(now)"
   ]
  },
  {
   "cell_type": "code",
   "execution_count": 64,
   "metadata": {},
   "outputs": [],
   "source": [
    "offset.rollback(now)"
   ]
  },
  {
   "cell_type": "markdown",
   "metadata": {},
   "source": [
    "<p>A creative use of date offsets is to use these methods with <code>groupby</code>:</p>"
   ]
  },
  {
   "cell_type": "code",
   "execution_count": 65,
   "metadata": {},
   "outputs": [],
   "source": [
    "ts = pd.Series(np.random.standard_normal(20),\n",
    "               index=pd.date_range(\"2000-01-15\", periods=20,\n",
    "                                   freq=\"4D\"))\n",
    "ts"
   ]
  },
  {
   "cell_type": "code",
   "execution_count": 66,
   "metadata": {},
   "outputs": [],
   "source": [
    "ts.groupby(MonthEnd().rollforward).mean()"
   ]
  },
  {
   "cell_type": "markdown",
   "metadata": {},
   "source": [
    "<p>Of course, an easier and faster way to do this is with <code>resample</code> (we'll discuss this in much more depth in <a href=\"#11.6_resampling\">Resampling and Frequency Conversion</a>):</p>"
   ]
  },
  {
   "cell_type": "code",
   "execution_count": 67,
   "metadata": {},
   "outputs": [],
   "source": [
    "ts.resample(\"M\").mean()"
   ]
  },
  {
   "cell_type": "markdown",
   "metadata": {},
   "source": [
    "<span id=\"11.4_time\"></span>\n",
    "<h2>11.4 Time Zone Handling</h2>\n",
    "\n",
    "<p>Working with time zones can be one of the most unpleasant parts of time series manipulation. As a result, many time series users choose to work with time series in coordinated universal time or UTC, which is the geography-independent international standard. Time zones are expressed as offsets from UTC; for example, New York is four hours behind UTC during daylight saving time (DST) and five hours behind the rest of the year.</p>\n",
    "\n",
    "<p>In Python, time zone information comes from the third-party <code>pytz</code> library (installable with pip or conda), which exposes the <em>Olson database</em>, a compilation of world time zone information. This is especially important for historical data because the DST transition dates (and even UTC offsets) have been changed numerous times depending on the regional laws. In the United States, the DST transition times have been changed many times since 1900!</p>\n",
    "\n",
    "<p>For detailed information about the <code>pytz</code> library, you’ll need to look at that library’s documentation. As far as this book is concerned, pandas wraps <code>pytz</code>’s functionality so you can ignore its API outside of the time zone names. Since pandas has a hard dependency on <code>pytz</code>, it isn't necessary to install it separately. Time zone names can be found interactively in the docs:</p>"
   ]
  },
  {
   "cell_type": "code",
   "execution_count": 68,
   "metadata": {},
   "outputs": [],
   "source": [
    "import pytz\n",
    "pytz.common_timezones[-5:]"
   ]
  },
  {
   "cell_type": "markdown",
   "metadata": {},
   "source": [
    "<p>To get a time zone object from <code>pytz</code>, use <code>pytz.timezone</code>:</p>"
   ]
  },
  {
   "cell_type": "code",
   "execution_count": 69,
   "metadata": {},
   "outputs": [],
   "source": [
    "tz = pytz.timezone(\"America/New_York\")\n",
    "tz"
   ]
  },
  {
   "cell_type": "markdown",
   "metadata": {},
   "source": [
    "<p>Methods in pandas will accept either time zone names or these objects.</p>\n",
    "\n",
    "<h3>Time Zone Localization and Conversion</h3>\n",
    "\n",
    "<p>By default, time series in pandas are <em>time zone naive</em>. For example, consider the following time series:</p>"
   ]
  },
  {
   "cell_type": "code",
   "execution_count": 70,
   "metadata": {},
   "outputs": [],
   "source": [
    "dates = pd.date_range(\"2012-03-09 09:30\", periods=6)\n",
    "ts = pd.Series(np.random.standard_normal(len(dates)), index=dates)\n",
    "ts"
   ]
  },
  {
   "cell_type": "markdown",
   "metadata": {},
   "source": [
    "<p>The index's <code>tz</code> field is <code>None</code>:</p>"
   ]
  },
  {
   "cell_type": "code",
   "execution_count": 71,
   "metadata": {},
   "outputs": [],
   "source": [
    "print(ts.index.tz)"
   ]
  },
  {
   "cell_type": "markdown",
   "metadata": {},
   "source": [
    "<p>Date ranges can be generated with a time zone set:</p>"
   ]
  },
  {
   "cell_type": "code",
   "execution_count": 72,
   "metadata": {},
   "outputs": [],
   "source": [
    "pd.date_range(\"2012-03-09 09:30\", periods=10, tz=\"UTC\")"
   ]
  },
  {
   "cell_type": "markdown",
   "metadata": {},
   "source": [
    "<p>Conversion from naive to <em>localized</em> (reinterpreted as having been observed in a particular time zone) is handled by the <code>tz_localize</code> method:</p>"
   ]
  },
  {
   "cell_type": "code",
   "execution_count": 73,
   "metadata": {},
   "outputs": [],
   "source": [
    "ts"
   ]
  },
  {
   "cell_type": "code",
   "execution_count": 74,
   "metadata": {},
   "outputs": [],
   "source": [
    "ts_utc = ts.tz_localize(\"UTC\")\n",
    "ts_utc"
   ]
  },
  {
   "cell_type": "code",
   "execution_count": 75,
   "metadata": {},
   "outputs": [],
   "source": [
    "ts_utc.index"
   ]
  },
  {
   "cell_type": "markdown",
   "metadata": {},
   "source": [
    "<p>Once a time series has been localized to a particular time zone, it can be converted to another time zone with <code>tz_convert</code>:</p>"
   ]
  },
  {
   "cell_type": "code",
   "execution_count": 76,
   "metadata": {},
   "outputs": [],
   "source": [
    "ts_utc.tz_convert(\"America/New_York\")"
   ]
  },
  {
   "cell_type": "markdown",
   "metadata": {},
   "source": [
    "<p>In the case of the preceding time series, which straddles a DST transition in the <code>America/New_York</code> time zone, we could localize to US Eastern time and convert to, say, UTC or Berlin time:</p>"
   ]
  },
  {
   "cell_type": "code",
   "execution_count": 77,
   "metadata": {},
   "outputs": [],
   "source": [
    "ts_eastern = ts.tz_localize(\"America/New_York\")\n",
    "ts_eastern.tz_convert(\"UTC\")"
   ]
  },
  {
   "cell_type": "code",
   "execution_count": 78,
   "metadata": {},
   "outputs": [],
   "source": [
    "ts_eastern.tz_convert(\"Europe/Berlin\")"
   ]
  },
  {
   "cell_type": "markdown",
   "metadata": {},
   "source": [
    "<p><code>tz_localize</code> and <code>tz_convert</code> are also instance methods on <code>DatetimeIndex</code>:</p>"
   ]
  },
  {
   "cell_type": "code",
   "execution_count": 79,
   "metadata": {},
   "outputs": [],
   "source": [
    "ts.index.tz_localize(\"Asia/Shanghai\")"
   ]
  },
  {
   "cell_type": "markdown",
   "metadata": {},
   "source": [
    "<p><strong>Danger</strong><br />\n",
    "Localizing naive timestamps also checks for ambiguous or non-existent times around daylight saving time transitions.</p>\n",
    "\n",
    "<h3>Operations with Time Zone-Aware Timestamp Objects</h3>\n",
    "\n",
    "<p>Similar to time series and date ranges, individual <code>Timestamp</code> objects similarly can be localized from naive to time zone-aware and converted from one time zone to another:</p>"
   ]
  },
  {
   "cell_type": "code",
   "execution_count": 80,
   "metadata": {},
   "outputs": [],
   "source": [
    "stamp = pd.Timestamp(\"2011-03-12 04:00\")\n",
    "\n",
    "stamp_utc = stamp.tz_localize(\"utc\")\n",
    "\n",
    "stamp_utc.tz_convert(\"America/New_York\")"
   ]
  },
  {
   "cell_type": "markdown",
   "metadata": {},
   "source": [
    "<p>You can also pass a time zone when creating the <code>Timestamp</code>:</p>"
   ]
  },
  {
   "cell_type": "code",
   "execution_count": 81,
   "metadata": {},
   "outputs": [],
   "source": [
    "stamp_moscow = pd.Timestamp(\"2011-03-12 04:00\", \n",
    "                            tz=\"Europe/Moscow\")\n",
    "stamp_moscow"
   ]
  },
  {
   "cell_type": "markdown",
   "metadata": {},
   "source": [
    "<p>Time zone-aware <code>Timestamp</code> objects internally store a UTC timestamp value as nanoseconds since the Unix epoch (January 1, 1970), so changing the time zone does not alter the internal UTC value:</p>"
   ]
  },
  {
   "cell_type": "code",
   "execution_count": 82,
   "metadata": {},
   "outputs": [],
   "source": [
    "stamp_utc.value"
   ]
  },
  {
   "cell_type": "code",
   "execution_count": 83,
   "metadata": {},
   "outputs": [],
   "source": [
    "stamp_utc.tz_convert(\"America/New_York\").value"
   ]
  },
  {
   "cell_type": "markdown",
   "metadata": {},
   "source": [
    "<p>When performing time arithmetic using pandas’s <code>DateOffset</code> objects, pandas respects daylight saving time transitions where possible. Here we construct timestamps that occur right before DST transitions (forward and backward). First, 30 minutes before transitioning to DST:</p>"
   ]
  },
  {
   "cell_type": "code",
   "execution_count": 84,
   "metadata": {},
   "outputs": [],
   "source": [
    "stamp = pd.Timestamp(\"2012-03-11 01:30\", tz=\"US/Eastern\")\n",
    "stamp"
   ]
  },
  {
   "cell_type": "code",
   "execution_count": 85,
   "metadata": {},
   "outputs": [],
   "source": [
    "stamp + Hour()"
   ]
  },
  {
   "cell_type": "markdown",
   "metadata": {},
   "source": [
    "<p>Then, 90 minutes before transitioning out of DST:</p>"
   ]
  },
  {
   "cell_type": "code",
   "execution_count": 86,
   "metadata": {},
   "outputs": [],
   "source": [
    "stamp = pd.Timestamp(\"2012-11-04 00:30\", tz=\"US/Eastern\")\n",
    "stamp"
   ]
  },
  {
   "cell_type": "code",
   "execution_count": 87,
   "metadata": {},
   "outputs": [],
   "source": [
    "stamp + 2 * Hour()"
   ]
  },
  {
   "cell_type": "markdown",
   "metadata": {},
   "source": [
    "<h3>Operations Between Different Time Zones</h3>\n",
    "\n",
    "<p>If two time series with different time zones are combined, the result will be UTC. Since the timestamps are stored under the hood in UTC, this is a straightforward operation and requires no conversion:</p>"
   ]
  },
  {
   "cell_type": "code",
   "execution_count": 88,
   "metadata": {},
   "outputs": [],
   "source": [
    "dates = pd.date_range(\"2012-03-07 09:30\", periods=10, \n",
    "                      freq=\"B\")\n",
    "ts = pd.Series(np.random.standard_normal(len(dates)), index=dates)\n",
    "ts"
   ]
  },
  {
   "cell_type": "code",
   "execution_count": 89,
   "metadata": {},
   "outputs": [],
   "source": [
    "ts1 = ts[:7].tz_localize(\"Europe/London\")\n",
    "ts2 = ts1[2:].tz_convert(\"Europe/Moscow\")\n",
    "result = ts1 + ts2\n",
    "result.index"
   ]
  },
  {
   "cell_type": "markdown",
   "metadata": {},
   "source": [
    "<p>Operations between time zone-naive and time zone-aware data are not supported and will raise an exception.</p>\n",
    "\n",
    "<h2>11.5 Periods and Period Arithmetic</h2>\n",
    "\n",
    "<p><em>Periods</em> represent time spans, like days, months, quarters, or years. The <code>pandas.Period</code> class represents this data type, requiring a string or integer and a supported frequency from <a href=\"#table_11.4\">Table 11.4</a>:</p>"
   ]
  },
  {
   "cell_type": "code",
   "execution_count": 90,
   "metadata": {},
   "outputs": [],
   "source": [
    "p = pd.Period(\"2011\", freq=\"A-DEC\") #Year end\n",
    "p"
   ]
  },
  {
   "cell_type": "markdown",
   "metadata": {},
   "source": [
    "<p>In this case, the <code>Period</code> object represents the full time span from January 1, 2011, to December 31, 2011, inclusive. Conveniently, adding and subtracting integers from periods has the effect of shifting their frequency:</p>"
   ]
  },
  {
   "cell_type": "code",
   "execution_count": 91,
   "metadata": {},
   "outputs": [],
   "source": [
    "p + 5"
   ]
  },
  {
   "cell_type": "code",
   "execution_count": 92,
   "metadata": {},
   "outputs": [],
   "source": [
    "p - 2"
   ]
  },
  {
   "cell_type": "markdown",
   "metadata": {},
   "source": [
    "<p>If two periods have the same frequency, their difference is the number of units between them as a date offset:</p>"
   ]
  },
  {
   "cell_type": "code",
   "execution_count": 93,
   "metadata": {},
   "outputs": [],
   "source": [
    "pd.Period(\"2014\", freq=\"A-DEC\") - p"
   ]
  },
  {
   "cell_type": "markdown",
   "metadata": {},
   "source": [
    "<p>Regular ranges of periods can be constructed with the <code>period_range<code> function:</p>"
   ]
  },
  {
   "cell_type": "code",
   "execution_count": 94,
   "metadata": {},
   "outputs": [],
   "source": [
    "periods = pd.period_range(\"2000-01-01\", \"2000-06-30\", freq=\"M\")\n",
    "periods"
   ]
  },
  {
   "cell_type": "markdown",
   "metadata": {},
   "source": [
    "<p>The <code>PeriodIndex</code> class stores a sequence of periods and can serve as an axis index in any pandas data structure:</p>"
   ]
  },
  {
   "cell_type": "code",
   "execution_count": 95,
   "metadata": {},
   "outputs": [],
   "source": [
    "pd.Series(np.random.standard_normal(6), index=periods)"
   ]
  },
  {
   "cell_type": "markdown",
   "metadata": {},
   "source": [
    "<p>If you have an array of strings, you can also use the <code>PeriodIndex</code> class, where all of its values are periods:</p>"
   ]
  },
  {
   "cell_type": "code",
   "execution_count": 96,
   "metadata": {},
   "outputs": [],
   "source": [
    "values = [\"2001Q3\", \"2002Q2\", \"2003Q1\"]\n",
    "index = pd.PeriodIndex(values, freq=\"Q-DEC\")\n",
    "index"
   ]
  },
  {
   "cell_type": "markdown",
   "metadata": {},
   "source": [
    "<h3>Period Frequency Conversion</h3>\n",
    "\n",
    "<p>Periods and <code>PeriodIndex</code> objects can be converted to another frequency with their <code>asfreq</code> method. As an example, suppose we had an annual period and wanted to convert it into a monthly period either at the start or end of the year. This can be done like so:</p>"
   ]
  },
  {
   "cell_type": "code",
   "execution_count": 97,
   "metadata": {},
   "outputs": [],
   "source": [
    "p = pd.Period(\"2011\", freq=\"A-DEC\")\n",
    "p"
   ]
  },
  {
   "cell_type": "code",
   "execution_count": 98,
   "metadata": {},
   "outputs": [],
   "source": [
    "p.asfreq(\"M\", how=\"start\")"
   ]
  },
  {
   "cell_type": "code",
   "execution_count": 99,
   "metadata": {},
   "outputs": [],
   "source": [
    "p.asfreq(\"M\", how=\"end\")"
   ]
  },
  {
   "cell_type": "code",
   "execution_count": 100,
   "metadata": {},
   "outputs": [],
   "source": [
    "p.asfreq(\"M\")"
   ]
  },
  {
   "cell_type": "markdown",
   "metadata": {},
   "source": [
    "<p>You can think of <code>Period(\"2011\", \"A-DEC\")</code> as being a sort of cursor pointing to a span of time, subdivided by monthly periods. See <a href=\"#figure_11.1\">Figure 11.1</a> for an illustration of this. For a <em>fiscal year</em> ending on a month other than December, the corresponding monthly subperiods are different:</p>"
   ]
  },
  {
   "cell_type": "code",
   "execution_count": 101,
   "metadata": {},
   "outputs": [],
   "source": [
    "p = pd.Period(\"2011\", freq=\"A-JUN\")\n",
    "p"
   ]
  },
  {
   "cell_type": "code",
   "execution_count": 102,
   "metadata": {},
   "outputs": [],
   "source": [
    "p.asfreq(\"M\", how=\"start\")"
   ]
  },
  {
   "cell_type": "code",
   "execution_count": 103,
   "metadata": {},
   "outputs": [],
   "source": [
    "p.asfreq(\"M\", how=\"end\")"
   ]
  },
  {
   "cell_type": "markdown",
   "metadata": {},
   "source": [
    "<figure id=\"figure_11.1\">\n",
    "    <img src=\"images/pda3_1101.png\">\n",
    "    <figcaption>Figure 11.1: Period frequency conversion illustration</figcaption>\n",
    "</figure>\n",
    "<p>When you are converting from high to low frequency, pandas determines the subperiod, depending on where the superperiod “belongs.” For example, in <code>A-JUN</code> frequency, the month <code>Aug-2011</code> is actually part of the <code>2012</code> period:</p>"
   ]
  },
  {
   "cell_type": "code",
   "execution_count": 104,
   "metadata": {},
   "outputs": [],
   "source": [
    "p = pd.Period(\"Aug-2011\", \"M\")\n",
    "p.asfreq(\"A-JUN\")"
   ]
  },
  {
   "cell_type": "markdown",
   "metadata": {},
   "source": [
    "<p>Whole <code>PeriodIndex</code> objects or time series can be similarly converted with the same semantics:</p>"
   ]
  },
  {
   "cell_type": "code",
   "execution_count": 105,
   "metadata": {},
   "outputs": [],
   "source": [
    "periods = pd.period_range(\"2006\", \"2009\", freq=\"A-DEC\")\n",
    "ts = pd.Series(np.random.standard_normal(len(periods)), index=periods)\n",
    "\n",
    "ts"
   ]
  },
  {
   "cell_type": "code",
   "execution_count": 106,
   "metadata": {},
   "outputs": [],
   "source": [
    "ts.asfreq(\"M\", how=\"start\")"
   ]
  },
  {
   "cell_type": "markdown",
   "metadata": {},
   "source": [
    "<p>Here, the annual periods are replaced with monthly periods corresponding to the first month falling within each annual period. If we instead wanted the last business day of each year, we can use the <code>\"B\"</code> frequency and indicate that we want the end of the period:</p>"
   ]
  },
  {
   "cell_type": "code",
   "execution_count": 107,
   "metadata": {},
   "outputs": [],
   "source": [
    "ts.asfreq(\"B\", how=\"end\")"
   ]
  },
  {
   "cell_type": "markdown",
   "metadata": {},
   "source": [
    "<h3>Quarterly Period Frequencies</h3>\n",
    "\n",
    "<p>Quarterly data is standard in accounting, finance, and other fields. Much quarterly data is reported relative to a <em>fiscal year end</em>, typically the last calendar or business day of one of the 12 months of the year. Thus, the period <code>2012Q4</code> has a different meaning depending on fiscal year end. pandas supports all 12 possible quarterly frequencies as <code>Q-JAN</code> through <code>Q-DEC</code>:</p>"
   ]
  },
  {
   "cell_type": "code",
   "execution_count": 108,
   "metadata": {},
   "outputs": [],
   "source": [
    "p = pd.Period(\"2012Q4\", freq=\"Q-JAN\")\n",
    "p"
   ]
  },
  {
   "cell_type": "markdown",
   "metadata": {},
   "source": [
    "<p>In the case of a fiscal year ending in January, <code>2012Q4</code> runs from November 2011 through January 2012, which you can check by converting to daily frequency:</p>"
   ]
  },
  {
   "cell_type": "code",
   "execution_count": 109,
   "metadata": {},
   "outputs": [],
   "source": [
    "p.asfreq(\"D\", how=\"start\")"
   ]
  },
  {
   "cell_type": "code",
   "execution_count": 110,
   "metadata": {},
   "outputs": [],
   "source": [
    "p.asfreq(\"D\", how=\"end\")"
   ]
  },
  {
   "cell_type": "markdown",
   "metadata": {},
   "source": [
    "<p>See <a href=\"#figure_11.2\">Figure 11.2</a> for an illustration.</p>\n",
    "<figure id=\"figure_11.2\">\n",
    "    <img src=\"images/pda3_1102.png\">\n",
    "    <figcaption>Figure 11.2: Different quarterly frequency conventions</figcaption>\n",
    "</figure>\n",
    "<p>Thus, it’s possible to do convenient period arithmetic; for example, to get the timestamp at 4 P.M. on the second-to-last business day of the quarter, you could do:</p>"
   ]
  },
  {
   "cell_type": "code",
   "execution_count": 111,
   "metadata": {},
   "outputs": [],
   "source": [
    "p4pm = (p.asfreq(\"B\", how=\"end\") - 1).asfreq(\"T\", how=\"start\") + 16 * 60\n",
    "p4pm"
   ]
  },
  {
   "cell_type": "code",
   "execution_count": 112,
   "metadata": {},
   "outputs": [],
   "source": [
    "p4pm.to_timestamp()"
   ]
  },
  {
   "cell_type": "markdown",
   "metadata": {},
   "source": [
    "<p>The <code>to_timestamp</code> method returns the <code>Timestamp</code> at the start of the period by default.</p>\n",
    "\n",
    "<p>You can generate quarterly ranges using <code>pandas.period_range</code>. The arithmetic is identical, too:</p>"
   ]
  },
  {
   "cell_type": "code",
   "execution_count": 113,
   "metadata": {},
   "outputs": [],
   "source": [
    "periods = pd.period_range(\"2011Q3\", \"2012Q4\", freq=\"Q-JAN\")\n",
    "ts = pd.Series(np.arange(len(periods)), index=periods)\n",
    "ts"
   ]
  },
  {
   "cell_type": "code",
   "execution_count": 114,
   "metadata": {},
   "outputs": [],
   "source": [
    "new_periods = (periods.asfreq(\"B\", \"end\") - 1).asfreq(\"H\", \"start\") + 16\n",
    "ts.index = new_periods.to_timestamp()\n",
    "ts"
   ]
  },
  {
   "cell_type": "markdown",
   "metadata": {},
   "source": [
    "<h3>Converting Timestamps to Periods (and Back)</h3>\n",
    "\n",
    "<p>Series and DataFrame objects indexed by timestamps can be converted to periods with the <code>to_period</code> method:</p>"
   ]
  },
  {
   "cell_type": "code",
   "execution_count": 115,
   "metadata": {},
   "outputs": [],
   "source": [
    "dates = pd.date_range(\"2000-01-01\", periods=3, freq=\"M\")\n",
    "ts = pd.Series(np.random.standard_normal(3), index=dates)\n",
    "ts"
   ]
  },
  {
   "cell_type": "code",
   "execution_count": 116,
   "metadata": {},
   "outputs": [],
   "source": [
    "pts = ts.to_period()\n",
    "pts"
   ]
  },
  {
   "cell_type": "markdown",
   "metadata": {},
   "source": [
    "<p>Since periods refer to nonoverlapping time spans, a timestamp can only belong to a single period for a given frequency. While the frequency of the new <code>PeriodIndex</code> is inferred from the timestamps by default, you can specify any supported frequency (most of those listed in <a href=\"#table_11.4\">Table 11.4</a> are supported). There is also no problem with having duplicate periods in the result:</p>"
   ]
  },
  {
   "cell_type": "code",
   "execution_count": 117,
   "metadata": {},
   "outputs": [],
   "source": [
    "dates = pd.date_range(\"2000-01-29\", periods=6)\n",
    "ts2 = pd.Series(np.random.standard_normal(6), index=dates)\n",
    "ts2"
   ]
  },
  {
   "cell_type": "code",
   "execution_count": 118,
   "metadata": {},
   "outputs": [],
   "source": [
    "ts2.to_period(\"M\")"
   ]
  },
  {
   "cell_type": "markdown",
   "metadata": {},
   "source": [
    "<p>To convert back to timestamps, use the <code>to_timestamp</code> method, which returns a <code>DatetimeIndex</code>:</p>"
   ]
  },
  {
   "cell_type": "code",
   "execution_count": 119,
   "metadata": {},
   "outputs": [],
   "source": [
    "pts = ts2.to_period()\n",
    "pts"
   ]
  },
  {
   "cell_type": "code",
   "execution_count": 120,
   "metadata": {},
   "outputs": [],
   "source": [
    "pts.to_timestamp(how=\"end\")"
   ]
  },
  {
   "cell_type": "markdown",
   "metadata": {},
   "source": [
    "<h3>Creating a PeriodIndex from Arrays</h3>\n",
    "\n",
    "<p>Fixed frequency datasets are sometimes stored with time span information spread across multiple columns. For example, in this macroeconomic dataset, the year and quarter are in different columns:</p>"
   ]
  },
  {
   "cell_type": "code",
   "execution_count": 121,
   "metadata": {},
   "outputs": [],
   "source": [
    "data = pd.read_csv(\"examples/macrodata.csv\")\n",
    "data.head(5)"
   ]
  },
  {
   "cell_type": "code",
   "execution_count": 122,
   "metadata": {},
   "outputs": [],
   "source": [
    "data[\"year\"]"
   ]
  },
  {
   "cell_type": "code",
   "execution_count": 123,
   "metadata": {},
   "outputs": [],
   "source": [
    "data[\"quarter\"]"
   ]
  },
  {
   "cell_type": "markdown",
   "metadata": {},
   "source": [
    "<p>By passing these arrays to <code>PeriodIndex</code> with a frequency, you can combine them to form an index for the DataFrame:</p>"
   ]
  },
  {
   "cell_type": "code",
   "execution_count": 124,
   "metadata": {},
   "outputs": [],
   "source": [
    "index = pd.PeriodIndex(year=data[\"year\"], quarter=data[\"quarter\"],\n",
    "                       freq=\"Q-DEC\")\n",
    "index"
   ]
  },
  {
   "cell_type": "code",
   "execution_count": 125,
   "metadata": {},
   "outputs": [],
   "source": [
    "data.index = index\n",
    "data[\"infl\"]"
   ]
  },
  {
   "cell_type": "markdown",
   "metadata": {},
   "source": [
    "<span id=\"11.6_resampling\"></span>\n",
    "<h2>11.6 Resampling and Frequency Conversion</h2>\n",
    "\n",
    "<p><em>Resampling</em> refers to the process of converting a time series from one frequency to another. Aggregating higher frequency data to lower frequency is called <em>downsampling</em>, while converting lower frequency to higher frequency is called <em>upsampling</em>. Not all resampling falls into either of these categories; for example, converting <code>W-WED</code> (weekly on Wednesday) to <code>W-FRI</code> is neither upsampling nor downsampling.</p>\n",
    "\n",
    "<p>pandas objects are equipped with a <code>resample</code> method, which is the workhorse function for all frequency conversion. <code>resample</code> has a similar API to <code>groupby</code>; you call <code>resample</code> to group the data, then call an aggregation function:</p>"
   ]
  },
  {
   "cell_type": "code",
   "execution_count": 126,
   "metadata": {},
   "outputs": [],
   "source": [
    "dates = pd.date_range(\"2000-01-01\", periods=100)\n",
    "ts = pd.Series(np.random.standard_normal(len(dates)), index=dates)\n",
    "ts"
   ]
  },
  {
   "cell_type": "code",
   "execution_count": 127,
   "metadata": {},
   "outputs": [],
   "source": [
    "ts.resample(\"M\").mean()"
   ]
  },
  {
   "cell_type": "code",
   "execution_count": 128,
   "metadata": {},
   "outputs": [],
   "source": [
    "ts.resample(\"M\", kind=\"period\").mean()"
   ]
  },
  {
   "cell_type": "markdown",
   "metadata": {},
   "source": [
    "<p><code>resample</code> is a flexible method that can be used to process large time series. The examples in the following sections illustrate its semantics and use. <a href=\"#table_11.5\">Table 11.5</a> summarizes some of its options.</p>\n",
    "\n",
    "<table id=\"table_11.5\">\n",
    "    <caption>Table 11.5: <code>resample</code> method arguments</caption>\n",
    "    <tr>\n",
    "        <th>Argument</th>\n",
    "        <th>Description</th>\n",
    "    </tr>\n",
    "    <tr>\n",
    "        <td><code>rule</code></td>\n",
    "        <td>String, DateOffset, or timedelta indicating desired resampled frequency (for example, ’M', ’5min', or <code>Second(15)</code>)</td>\n",
    "    </tr>\n",
    "    <tr>\n",
    "        <td><code>axis</code></td>\n",
    "        <td>Axis to resample on; default <code>axis=0</code></td>\n",
    "    </tr>\n",
    "    <tr>\n",
    "        <td><code>fill_method</code></td>\n",
    "        <td>How to interpolate when upsampling, as in <code>\"ffill\"</code> or <code>\"bfill\"</code>; by default does no interpolation</td>\n",
    "    </tr>\n",
    "    <tr>\n",
    "        <td><code>closed</code></td>\n",
    "        <td>In downsampling, which end of each interval is closed (inclusive), <code>\"right\"</code> or <code>\"left\"</code></td>\n",
    "    </tr>\n",
    "    <tr>\n",
    "        <td><code>label</code></td>\n",
    "        <td>In downsampling, how to label the aggregated result, with the <code>\"right\"</code> or <code>\"left\"</code> bin edge (e.g., the 9:30 to 9:35 five-minute interval could be labeled <code>9:30</code> or <code>9:35</code>)</td>\n",
    "    </tr>\n",
    "    <tr>\n",
    "        <td><code>limit</code></td>\n",
    "        <td>When forward or backward filling, the maximum number of periods to fill</td>\n",
    "    </tr>\n",
    "    <tr>\n",
    "        <td><code>kind</code></td>\n",
    "        <td>Aggregate to periods (<code>\"period\"</code>) or timestamps (<code>\"timestamp\"</code>); defaults to the type of index the time series has</td>\n",
    "    </tr>\n",
    "    <tr>\n",
    "        <td><code>convention</code></td>\n",
    "        <td>When resampling periods, the convention (<code>\"start\"</code> or <code>\"end\"</code>) for converting the low-frequency period to high frequency; defaults to \"start\"</td>\n",
    "    </tr>\n",
    "    <tr>\n",
    "        <td><code>origin</code></td>\n",
    "        <td>The \"base\" timestamp from which to determine the resampling bin edges; can also be one of <code>\"epoch\"</code>, <code>\"start\"</code>, <code>\"start_day\"</code>, <code>\"end\"</code>, or <code>\"end_day\"</code>; see the <code>resample</code> docstring for full details</td>\n",
    "    </tr>\n",
    "    <tr>\n",
    "        <td><code>offset</code></td>\n",
    "        <td>An offset timedelta added to the origin; defaults to <code>None</code></td>\n",
    "    </tr>\n",
    "</table>\n",
    "\n",
    "<h3>Downsampling</h3>\n",
    "\n",
    "<p><em>Downsampling</em> is aggregating data to a regular, lower frequency. The data you’re aggregating doesn’t need to be fixed frequently; the desired frequency defines bin edges that are used to slice the time series into pieces to aggregate. For example, to convert to monthly, <code>\"M\"</code> or <code>\"BM\"</code>, you need to chop up the data into one-month intervals. Each interval is said to be half-open; a data point can belong only to one interval, and the union of the intervals must make up the whole time frame. There are a couple things to think about when using r<code></code>esample to downsample data:</p>\n",
    "\n",
    "<ul>\n",
    "    <li>Which side of each interval is closed</li>\n",
    "    <li>How to label each aggregated bin, either with the start of the interval or the end</li>\n",
    "</ul>\n",
    "\n",
    "<p>To illustrate, let’s look at some one-minute frequency data:</p>"
   ]
  },
  {
   "cell_type": "code",
   "execution_count": 129,
   "metadata": {},
   "outputs": [],
   "source": [
    "dates = pd.date_range(\"2000-01-01\", periods=12, freq=\"T\")\n",
    "ts = pd.Series(np.arange(len(dates)), index=dates)\n",
    "ts"
   ]
  },
  {
   "cell_type": "markdown",
   "metadata": {},
   "source": [
    "<p>Suppose you wanted to aggregate this data into five-minute chunks or <em>bars</em> by taking the sum of each group:</p>"
   ]
  },
  {
   "cell_type": "code",
   "execution_count": 130,
   "metadata": {},
   "outputs": [],
   "source": [
    "ts.resample(\"5min\").sum()"
   ]
  },
  {
   "cell_type": "markdown",
   "metadata": {},
   "source": [
    "<p>The frequency you pass defines bin edges in five-minute increments. For this frequency, by default the <code>left</code> bin edge is inclusive, so the <code>00:00</code> value is included in the <code>00:00</code> to <code>00:05</code> interval, and the <code>00:05</code> value is excluded from that interval.</p>"
   ]
  },
  {
   "cell_type": "code",
   "execution_count": 131,
   "metadata": {},
   "outputs": [],
   "source": [
    "ts.resample(\"5min\", closed=\"right\").sum()"
   ]
  },
  {
   "cell_type": "markdown",
   "metadata": {},
   "source": [
    "<p>The resulting time series is labeled by the timestamps from the left side of each bin. By passing <code>label=\"right\"</code> you can label them with the right bin edge:</p>"
   ]
  },
  {
   "cell_type": "code",
   "execution_count": 132,
   "metadata": {},
   "outputs": [],
   "source": [
    "ts.resample(\"5min\", closed=\"right\", label=\"right\").sum()"
   ]
  },
  {
   "cell_type": "markdown",
   "metadata": {},
   "source": [
    "<p>See <a href=\"#figure_11.3\">Figure 11.3</a> for an illustration of minute frequency data being resampled to five-minute frequency:</p>\n",
    "<figure id=\"figure_11.3\">\n",
    "    <img src=\"images/pda3_1103.png\">\n",
    "    <figcaption>Figure 11.3: Five-minute resampling illustration of closed, label conventions</figcaption>\n",
    "</figure>\n",
    "<p>Lastly, you might want to shift the result index by some amount, say subtracting one second from the right edge to make it more clear which interval the timestamp refers to. To do this, add an offset to the resulting index:</p>"
   ]
  },
  {
   "cell_type": "code",
   "execution_count": 133,
   "metadata": {},
   "outputs": [],
   "source": [
    "from pandas.tseries.frequencies import to_offset\n",
    "result = ts.resample(\"5min\", closed=\"right\", label=\"right\").sum()\n",
    "result.index = result.index + to_offset(\"-1s\")\n",
    "result"
   ]
  },
  {
   "cell_type": "markdown",
   "metadata": {},
   "source": [
    "<h3>Open-high-low-close (OHLC) resampling</h3>\n",
    "\n",
    "<p>In finance, a popular way to aggregate a time series is to compute four values for each bucket: the first (open), last (close), maximum (high), and minimal (low) values. By using the <code>ohlc</code> aggregate function, you will obtain a DataFrame having columns containing these four aggregates, which are efficiently computed in a single function call:</p>"
   ]
  },
  {
   "cell_type": "code",
   "execution_count": 134,
   "metadata": {},
   "outputs": [],
   "source": [
    "ts = pd.Series(np.random.permutation(np.arange(len(dates))), index=dates)\n",
    "ts.resample(\"5min\").ohlc()"
   ]
  },
  {
   "cell_type": "markdown",
   "metadata": {},
   "source": [
    "<h3>Upsampling and Interpolation</h3>\n",
    "\n",
    "<p>Upsampling is converting from a lower frequency to a higher frequency, where no aggregation is needed. Let’s consider a DataFrame with some weekly data:</p>"
   ]
  },
  {
   "cell_type": "code",
   "execution_count": 135,
   "metadata": {},
   "outputs": [],
   "source": [
    "frame = pd.DataFrame(np.random.standard_normal((2, 4)),\n",
    "                     index=pd.date_range(\"2000-01-01\", periods=2,\n",
    "                                         freq=\"W-WED\"),\n",
    "                     columns=[\"Colorado\", \"Texas\", \"New York\", \"Ohio\"])\n",
    "frame"
   ]
  },
  {
   "cell_type": "markdown",
   "metadata": {},
   "source": [
    "<p>When you are using an aggregation function with this data, there is only one value per group, and missing values result in the gaps. We use the <code>asfreq</code> method to convert to the higher frequency without any aggregation:</p>"
   ]
  },
  {
   "cell_type": "code",
   "execution_count": 136,
   "metadata": {},
   "outputs": [],
   "source": [
    "df_daily = frame.resample(\"D\").asfreq()\n",
    "df_daily"
   ]
  },
  {
   "cell_type": "markdown",
   "metadata": {},
   "source": [
    "<p>Suppose you wanted to fill forward each weekly value on the non-Wednesdays. The same filling or interpolation methods available in the <code>fillna</code> and <code>reindex</code> methods are available for resampling:</p>"
   ]
  },
  {
   "cell_type": "code",
   "execution_count": 137,
   "metadata": {},
   "outputs": [],
   "source": [
    "frame.resample(\"D\").ffill()"
   ]
  },
  {
   "cell_type": "markdown",
   "metadata": {},
   "source": [
    "<p>You can similarly choose to only fill a certain number of periods forward to limit how far to continue using an observed value:</p>"
   ]
  },
  {
   "cell_type": "code",
   "execution_count": 138,
   "metadata": {},
   "outputs": [],
   "source": [
    "frame.resample(\"D\").ffill(limit=2)"
   ]
  },
  {
   "cell_type": "markdown",
   "metadata": {},
   "source": [
    "<p>Notably, the new date index need not coincide with the old one at all:</p>"
   ]
  },
  {
   "cell_type": "code",
   "execution_count": 139,
   "metadata": {},
   "outputs": [],
   "source": [
    "frame.resample(\"W-THU\").ffill()"
   ]
  },
  {
   "cell_type": "markdown",
   "metadata": {},
   "source": [
    "<h3>Resampling with Periods</h3>\n",
    "\n",
    "<p>Resampling data indexed by periods is similar to timestamps:</p>"
   ]
  },
  {
   "cell_type": "code",
   "execution_count": 140,
   "metadata": {},
   "outputs": [],
   "source": [
    "frame = pd.DataFrame(np.random.standard_normal((24, 4)),\n",
    "                     index=pd.period_range(\"1-2000\", \"12-2001\",\n",
    "                                           freq=\"M\"),\n",
    "                     columns=[\"Colorado\", \"Texas\", \"New York\", \"Ohio\"])\n",
    "frame.head()"
   ]
  },
  {
   "cell_type": "code",
   "execution_count": 141,
   "metadata": {},
   "outputs": [],
   "source": [
    "annual_frame = frame.resample(\"A-DEC\").mean()\n",
    "annual_frame"
   ]
  },
  {
   "cell_type": "code",
   "execution_count": 142,
   "metadata": {},
   "outputs": [],
   "source": [
    "frame.groupby(frame.index.year).mean()"
   ]
  },
  {
   "cell_type": "markdown",
   "metadata": {},
   "source": [
    "<p>Upsampling is more nuanced, as before resampling you must make a decision about which end of the time span in the new frequency to place the values. The <code>convention</code> argument defaults to <code>\"start\"</code> but can also be <code>\"end\"</code>:</p>"
   ]
  },
  {
   "cell_type": "code",
   "execution_count": 143,
   "metadata": {},
   "outputs": [],
   "source": [
    "# Q-DEC: Quarterly, year ending in December\n",
    "annual_frame.resample(\"Q-DEC\").ffill()"
   ]
  },
  {
   "cell_type": "code",
   "execution_count": 144,
   "metadata": {},
   "outputs": [],
   "source": [
    "annual_frame.resample(\"Q-DEC\", convention=\"end\").asfreq()"
   ]
  },
  {
   "cell_type": "markdown",
   "metadata": {},
   "source": [
    "<p>Since periods refer to time spans, the rules about upsampling and downsampling are more rigid:</p>\n",
    "<ul>\n",
    "    <li>In downsampling, the target frequency must be a subperiod of the source frequency.</li>\n",
    "    <li>In upsampling, the target frequency must be a superperiod of the source frequency.</li>\n",
    "</ul>\n",
    "<p>If these rules are not satisfied, an exception will be raised. This mainly affects the quarterly, annual, and weekly frequencies; for example, the time spans defined by <code>Q-MAR</code> only line up with <code>A-MAR</code>, <code>A-JUN</code>, <code>A-SEP</code>, and <code>A-DEC</code>:</p>"
   ]
  },
  {
   "cell_type": "code",
   "execution_count": 145,
   "metadata": {},
   "outputs": [],
   "source": [
    "annual_frame.resample(\"Q-MAR\").ffill()"
   ]
  },
  {
   "cell_type": "markdown",
   "metadata": {},
   "source": [
    "<h3>Grouped Time Resampling</h3>\n",
    "\n",
    "<p>For time series data, the <code>resample</code> method is semantically a group operation based on a time intervalization. Here's a small example table:</p>"
   ]
  },
  {
   "cell_type": "code",
   "execution_count": 146,
   "metadata": {},
   "outputs": [],
   "source": [
    "N = 15\n",
    "times = pd.date_range(\"2017-05-20 00:00\", freq=\"1min\", periods=N)\n",
    "df = pd.DataFrame({\"time\": times,\n",
    "                   \"value\": np.arange(N)})\n",
    "df"
   ]
  },
  {
   "cell_type": "markdown",
   "metadata": {},
   "source": [
    "<p>Here, we can index by <code>\"time\"</code> and then resample:</p>"
   ]
  },
  {
   "cell_type": "code",
   "execution_count": 147,
   "metadata": {},
   "outputs": [],
   "source": [
    "df.set_index(\"time\").resample(\"5min\").count()"
   ]
  },
  {
   "cell_type": "markdown",
   "metadata": {},
   "source": [
    "<p>Suppose that a DataFrame contains multiple time series, marked by an additional group key column:</p>"
   ]
  },
  {
   "cell_type": "code",
   "execution_count": 148,
   "metadata": {},
   "outputs": [],
   "source": [
    "df2 = pd.DataFrame({\"time\": times.repeat(3),\n",
    "                    \"key\": np.tile([\"a\", \"b\", \"c\"], N),\n",
    "                    \"value\": np.arange(N * 3.)})\n",
    "df2.head(7)"
   ]
  },
  {
   "cell_type": "markdown",
   "metadata": {},
   "source": [
    "<p>To do the same resampling for each value of <code>\"key\"</code>, we introduce the <code>pandas.Grouper</code> object:</p>"
   ]
  },
  {
   "cell_type": "code",
   "execution_count": 149,
   "metadata": {},
   "outputs": [],
   "source": [
    "time_key = pd.Grouper(freq=\"5min\")"
   ]
  },
  {
   "cell_type": "markdown",
   "metadata": {},
   "source": [
    "<p>We can then set the time index, group by <code>\"key\"</code> and <code>time_key</code>, and aggregate:</p>"
   ]
  },
  {
   "cell_type": "code",
   "execution_count": 150,
   "metadata": {},
   "outputs": [],
   "source": [
    "resampled = (df2.set_index(\"time\")\n",
    "             .groupby([\"key\", time_key])\n",
    "             .sum())\n",
    "resampled"
   ]
  },
  {
   "cell_type": "code",
   "execution_count": 151,
   "metadata": {},
   "outputs": [],
   "source": [
    "resampled.reset_index()"
   ]
  },
  {
   "cell_type": "markdown",
   "metadata": {},
   "source": [
    "<p>One constraint with using <code>pandas.Grouper</code> is that the time must be the index of the Series or DataFrame.</p>\n",
    "\n",
    "<h2>11.7 Moving Window Functions</h2>\n",
    "\n",
    "An important class of array transformations used for time series operations are statistics and other functions evaluated over a sliding window or with exponentially decaying weights. This can be useful for smoothing noisy or gappy data. I call these <em>moving window functions</em>, even though they include functions without a fixed-length window like exponentially weighted moving average. Like other statistical functions, these also automatically exclude missing data.</p>\n",
    "\n",
    "<p>Before digging in, we can load up some time series data and resample it to business day frequency:</p>"
   ]
  },
  {
   "cell_type": "code",
   "execution_count": 152,
   "metadata": {},
   "outputs": [],
   "source": [
    "close_px_all = pd.read_csv(\"examples/stock_px.csv\",\n",
    "                           parse_dates=True, index_col=0)\n",
    "close_px = close_px_all[[\"AAPL\", \"MSFT\", \"XOM\"]]\n",
    "close_px = close_px.resample(\"B\").ffill()"
   ]
  },
  {
   "cell_type": "markdown",
   "metadata": {},
   "source": [
    "<p>I now introduce the <code>rolling</code> operator, which behaves similarly to <code>resample</code> and <code>groupby</code>. It can be called on a Series or DataFrame along with a <code>window</code> (expressed as a number of periods; see next figure for the plot created):</p>"
   ]
  },
  {
   "cell_type": "code",
   "execution_count": 153,
   "metadata": {},
   "outputs": [],
   "source": [
    "close_px[\"AAPL\"].plot()\n",
    "close_px[\"AAPL\"].rolling(250).mean().plot();"
   ]
  },
  {
   "cell_type": "markdown",
   "metadata": {},
   "source": [
    "<p>The expression <code>rolling(250)</code> is similar in behavior to <code>groupby</code>, but instead of grouping, it creates an object that enables grouping over a 250-day sliding window. So here we have the 250-day moving window average of Apple's stock price.</p>\n",
    "\n",
    "<p>By default, rolling functions require all of the values in the window to be non-NA. This behavior can be changed to account for missing data and, in particular, the fact that you will have fewer than <code>window</code> periods of data at the beginning of the time series (see next figure):</p>"
   ]
  },
  {
   "cell_type": "code",
   "execution_count": 154,
   "metadata": {},
   "outputs": [],
   "source": [
    "plt.figure()\n",
    "std250 = close_px[\"AAPL\"].pct_change().rolling(\n",
    "    250, min_periods=10).std()\n",
    "print(std250[5:12])\n",
    "std250.plot();"
   ]
  },
  {
   "cell_type": "markdown",
   "metadata": {},
   "source": [
    "<p>To compute an <code>expanding window mean</code>, use the <code>expanding</code> operator instead of <code>rolling</code>. The expanding mean starts the time window from the same point as the rolling window and increases the size of the window until it encompasses the whole series. An expanding window mean on the <code>std250</code> time series looks like this:</p>"
   ]
  },
  {
   "cell_type": "code",
   "execution_count": 155,
   "metadata": {},
   "outputs": [],
   "source": [
    "expanding_mean = std250.expanding().mean()"
   ]
  },
  {
   "cell_type": "markdown",
   "metadata": {},
   "source": [
    "<p>Calling a moving window function on a DataFrame applies the transformation to each column (see next figure):</p>"
   ]
  },
  {
   "cell_type": "code",
   "execution_count": 156,
   "metadata": {},
   "outputs": [],
   "source": [
    "plt.style.use('grayscale')\n",
    "close_px.rolling(60).mean().plot(logy=True);"
   ]
  },
  {
   "cell_type": "markdown",
   "metadata": {},
   "source": [
    "<p>The <code>rolling</code> function also accepts a string indicating a fixed-size time offset rolling() in moving window functions rather than a set number of periods. Using this notation can be useful for irregular time series. These are the same strings that you can pass to <code>resample</code>. For example, we could compute a 20-day rolling mean like so:</p>"
   ]
  },
  {
   "cell_type": "code",
   "execution_count": 157,
   "metadata": {},
   "outputs": [],
   "source": [
    "close_px.rolling(\"20D\").mean()"
   ]
  },
  {
   "cell_type": "markdown",
   "metadata": {},
   "source": [
    "<h3>Exponentially Weighted Functions</h3>\n",
    "\n",
    "<p>An alternative to using a fixed window size with equally weighted observations is to specify a <code>constant decay</code> factor to give more weight to more recent observations. There are a couple of ways to specify the decay factor. A popular one is using a <code>span</code>, which makes the result comparable to a simple moving window function with window size equal to the span.</p>\n",
    "\n",
    "<p>Since an exponentially weighted statistic places more weight on more recent observations, it “adapts” faster to changes compared with the equal-weighted version.</p>\n",
    "\n",
    "<p>pandas has the <code>ewm</code> operator (which stands for exponentially weighted moving) to go along with <code>rolling</code> and <code>expanding</code>. Here’s an example comparing a 30-day moving average of Apple’s stock price with an exponentially weighted (EW) moving average with <code>span=60</code> (see next figure):</p>"
   ]
  },
  {
   "cell_type": "code",
   "execution_count": 158,
   "metadata": {},
   "outputs": [],
   "source": [
    "aapl_px = close_px[\"AAPL\"][\"2006\":\"2007\"]\n",
    "\n",
    "ma30 = aapl_px.rolling(30, min_periods=20).mean()\n",
    "ewma30 = aapl_px.ewm(span=30).mean()\n",
    "\n",
    "aapl_px.plot(style=\"k-\", label=\"Price\");\n",
    "ma30.plot(style=\"k--\", label=\"Simple Moving Avg\");\n",
    "ewma30.plot(style=\"k-\", label=\"EW MA\");\n",
    "plt.legend();"
   ]
  },
  {
   "cell_type": "markdown",
   "metadata": {},
   "source": [
    "<h3>Binary Moving Window Functions</h3>\n",
    "\n",
    "<p>Some statistical operators, like correlation and covariance, need to operate on two time series. As an example, financial analysts are often interested in a stock’s correlation to a benchmark index like the S&amp;P 500. To have a look at this, we first compute the percent change for all of our time series of interest:</p>"
   ]
  },
  {
   "cell_type": "code",
   "execution_count": 159,
   "metadata": {},
   "outputs": [],
   "source": [
    "spx_px = close_px_all[\"SPX\"]\n",
    "spx_rets = spx_px.pct_change()\n",
    "returns = close_px.pct_change()"
   ]
  },
  {
   "cell_type": "markdown",
   "metadata": {},
   "source": [
    "<p>After we call <code>rolling</code>, the <code>corr</code> aggregation function can then compute the rolling correlation with <code>spx_rets</code> (see next figure for the resulting plot):</p>"
   ]
  },
  {
   "cell_type": "code",
   "execution_count": 160,
   "metadata": {},
   "outputs": [],
   "source": [
    "corr = returns[\"AAPL\"].rolling(125, min_periods=100).corr(spx_rets)\n",
    "corr.plot();"
   ]
  },
  {
   "cell_type": "markdown",
   "metadata": {},
   "source": [
    "<p>Suppose you wanted to compute the rolling correlation of the S&amp;P 500 index with many stocks at once. You could write a loop computing this for each stock like we did for Apple above, but if each stock is a column in a single DataFrame, we can compute all of the rolling correlations in one shot by calling <code>rolling</code> on the DataFrame and passing the <code>spx_rets</code> Series.</p>\n",
    "\n",
    "<p>See next figure for the plot of the result:</p>"
   ]
  },
  {
   "cell_type": "code",
   "execution_count": 161,
   "metadata": {},
   "outputs": [],
   "source": [
    "corr = returns.rolling(125, min_periods=100).corr(spx_rets)\n",
    "corr.plot();"
   ]
  },
  {
   "cell_type": "markdown",
   "metadata": {},
   "source": [
    "<h3>User-Defined Moving Window Functions</h3>\n",
    "\n",
    "<p>The <code>apply</code> method on <code>rolling</code> and related methods provides a way to apply an array function of your own creation over a moving window. The only requirement is that the function produce a single value (a reduction) from each piece of the array. For example, while we can compute sample quantiles using <code>rolling(...).quantile(q)</code>, we might be interested in the percentile rank of a particular value over the sample. The <code>scipy.stats.percentileofscore</code> function does just this (see next figure for the resulting plot):</p>"
   ]
  },
  {
   "cell_type": "code",
   "execution_count": 162,
   "metadata": {},
   "outputs": [],
   "source": [
    "from scipy.stats import percentileofscore\n",
    "def score_at_2percent(x):\n",
    "    return percentileofscore(x, 0.02)\n",
    "\n",
    "result = returns[\"AAPL\"].rolling(250).apply(score_at_2percent)\n",
    "result.plot();"
   ]
  }
 ],
 "metadata": {
  "kernelspec": {
   "display_name": "Python 3 (ipykernel)",
   "language": "python",
   "name": "python3"
  },
  "language_info": {
   "codemirror_mode": {
    "name": "ipython",
    "version": 3
   },
   "file_extension": ".py",
   "mimetype": "text/x-python",
   "name": "python",
   "nbconvert_exporter": "python",
   "pygments_lexer": "ipython3",
   "version": "3.10.10"
  }
 },
 "nbformat": 4,
 "nbformat_minor": 4
}
